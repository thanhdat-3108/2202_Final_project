{
 "cells": [
  {
   "cell_type": "code",
   "execution_count": 27,
   "metadata": {},
   "outputs": [
    {
     "name": "stdout",
     "output_type": "stream",
     "text": [
      "Requirement already satisfied: selenium in c:\\users\\admin\\anaconda3\\lib\\site-packages (4.15.2)\n",
      "Requirement already satisfied: urllib3[socks]<3,>=1.26 in c:\\users\\admin\\anaconda3\\lib\\site-packages (from selenium) (1.26.16)\n",
      "Requirement already satisfied: trio~=0.17 in c:\\users\\admin\\anaconda3\\lib\\site-packages (from selenium) (0.23.1)\n",
      "Requirement already satisfied: trio-websocket~=0.9 in c:\\users\\admin\\anaconda3\\lib\\site-packages (from selenium) (0.11.1)\n",
      "Requirement already satisfied: certifi>=2021.10.8 in c:\\users\\admin\\anaconda3\\lib\\site-packages (from selenium) (2023.7.22)\n",
      "Requirement already satisfied: attrs>=20.1.0 in c:\\users\\admin\\anaconda3\\lib\\site-packages (from trio~=0.17->selenium) (22.1.0)\n",
      "Requirement already satisfied: sortedcontainers in c:\\users\\admin\\anaconda3\\lib\\site-packages (from trio~=0.17->selenium) (2.4.0)\n",
      "Requirement already satisfied: idna in c:\\users\\admin\\anaconda3\\lib\\site-packages (from trio~=0.17->selenium) (3.4)\n",
      "Requirement already satisfied: outcome in c:\\users\\admin\\anaconda3\\lib\\site-packages (from trio~=0.17->selenium) (1.3.0.post0)\n",
      "Requirement already satisfied: sniffio>=1.3.0 in c:\\users\\admin\\anaconda3\\lib\\site-packages (from trio~=0.17->selenium) (1.3.0)\n",
      "Requirement already satisfied: cffi>=1.14 in c:\\users\\admin\\anaconda3\\lib\\site-packages (from trio~=0.17->selenium) (1.15.1)\n",
      "Requirement already satisfied: wsproto>=0.14 in c:\\users\\admin\\anaconda3\\lib\\site-packages (from trio-websocket~=0.9->selenium) (1.2.0)\n",
      "Requirement already satisfied: PySocks!=1.5.7,<2.0,>=1.5.6 in c:\\users\\admin\\anaconda3\\lib\\site-packages (from urllib3[socks]<3,>=1.26->selenium) (1.7.1)\n",
      "Requirement already satisfied: pycparser in c:\\users\\admin\\anaconda3\\lib\\site-packages (from cffi>=1.14->trio~=0.17->selenium) (2.21)\n",
      "Requirement already satisfied: h11<1,>=0.9.0 in c:\\users\\admin\\anaconda3\\lib\\site-packages (from wsproto>=0.14->trio-websocket~=0.9->selenium) (0.14.0)\n",
      "Note: you may need to restart the kernel to use updated packages.\n"
     ]
    },
    {
     "name": "stderr",
     "output_type": "stream",
     "text": [
      "WARNING: Skipping c:\\Users\\ADMIN\\anaconda3\\Lib\\site-packages\\semver-2.13.0.dist-info due to invalid metadata entry 'name'\n",
      "WARNING: Skipping c:\\Users\\ADMIN\\anaconda3\\Lib\\site-packages\\semver-2.13.0.dist-info due to invalid metadata entry 'name'\n",
      "WARNING: Skipping c:\\Users\\ADMIN\\anaconda3\\Lib\\site-packages\\semver-2.13.0.dist-info due to invalid metadata entry 'name'\n",
      "WARNING: Skipping c:\\Users\\ADMIN\\anaconda3\\Lib\\site-packages\\semver-2.13.0.dist-info due to invalid metadata entry 'name'\n"
     ]
    }
   ],
   "source": [
    "%pip install selenium"
   ]
  },
  {
   "cell_type": "code",
   "execution_count": 28,
   "metadata": {},
   "outputs": [],
   "source": [
    "from selenium import webdriver\n",
    "from time import sleep\n",
    "from selenium.webdriver.common.keys import Keys\n",
    "from selenium.webdriver.common.by import By\n",
    "from facebook_scraper import get_posts, get_profile\n",
    "import matplotlib.pyplot as plt\n",
    "import pandas as pd\n",
    "import seaborn as sns\n",
    "from datetime import datetime\n",
    "from ast import literal_eval\n",
    "import numpy as np\n",
    "import csv\n",
    "import os\n",
    "import re"
   ]
  },
  {
   "cell_type": "markdown",
   "metadata": {},
   "source": [
    "Account, Facebook login password and FanPage ID we need to Crawl"
   ]
  },
  {
   "cell_type": "code",
   "execution_count": 29,
   "metadata": {},
   "outputs": [],
   "source": [
    "EMAIL = \"thanhdat3108k67@gmail.com\"\n",
    "PASSWORD = \"22022627VNU\"\n",
    "PAGE_ID = \"schannel.vn\""
   ]
  },
  {
   "cell_type": "code",
   "execution_count": 30,
   "metadata": {},
   "outputs": [],
   "source": [
    "def initDriver():\n",
    "    \"\"\"\n",
    "    Initialize the Chrome driver with options to disable notifications.\n",
    "    This effectively creates a new browser window.\n",
    "    \"\"\"\n",
    "    options = webdriver.ChromeOptions()\n",
    "    options.add_argument(\"--disable-notifications\")\n",
    "    return webdriver.Chrome(options=options)\n",
    "\n",
    "def fbLogin(driver, email, password):\n",
    "    \"\"\"\n",
    "    Log in to Facebook using the provided email and password after \n",
    "    the browser window is opened.\n",
    "    \"\"\"\n",
    "    driver.get(\"https://facebook.com\")\n",
    "\n",
    "    # Login process\n",
    "    userEmail = driver.find_element(by=\"id\", value=\"email\")\n",
    "    userEmail.send_keys(email)\n",
    "    userPass = driver.find_element(by=\"id\", value=\"pass\")\n",
    "    userPass.send_keys(password)\n",
    "    userPass.send_keys(Keys.ENTER)"
   ]
  },
  {
   "cell_type": "markdown",
   "metadata": {},
   "source": [
    "## Let's continue to scratch all missing reactions and comments with selenium"
   ]
  },
  {
   "cell_type": "code",
   "execution_count": 31,
   "metadata": {},
   "outputs": [],
   "source": [
    "# This was written few days later\n",
    "# I found out that the facebook_scraper library is not stable\n",
    "# So let's load up our data and strip data we won't need, fill in the missing data with different method\n",
    "df = pd.read_csv('Data/raw_schannel.csv')\n",
    "df.head(5)\n",
    "\n",
    "# Drop unnecessary columns\n",
    "df = df[['post_id','text', 'time', 'comments', 'shares', 'comments_full']]\n",
    "# TODO:\n",
    "# Add reactions count for each post\n",
    "# Add comments text for each post\n",
    "df.head(5)\n",
    "\n",
    "#NaN value type\n",
    "df.dropna(subset=['comments'], inplace=True)\n",
    "df.dropna(subset=['post_id'], inplace=True)\n",
    "\n"
   ]
  },
  {
   "cell_type": "code",
   "execution_count": 32,
   "metadata": {},
   "outputs": [],
   "source": [
    "import pandas as pd\n",
    "from datetime import datetime\n",
    "df['time'] = pd.to_datetime(df['time'])"
   ]
  },
  {
   "cell_type": "markdown",
   "metadata": {},
   "source": [
    "## Function Crawls all reactions"
   ]
  },
  {
   "cell_type": "code",
   "execution_count": 33,
   "metadata": {},
   "outputs": [],
   "source": [
    "def get_count_react(href):\n",
    "        ''' \n",
    "        Get reaction type and count from the given href\n",
    "        '''\n",
    "        reaction_type = re.search(r'reaction_type=(\\d+)', href).group(1)\n",
    "        total_count = re.search(r'total_count=(\\d+)', href).group(1)\n",
    "        if reaction_type == '1':\n",
    "            reaction_type = 'like'\n",
    "        elif reaction_type == '2':\n",
    "                reaction_type = 'love'\n",
    "        elif reaction_type == '16':\n",
    "               reaction_type = 'care'\n",
    "        elif reaction_type == '4':\n",
    "               reaction_type = 'haha'\n",
    "        elif reaction_type == '3':\n",
    "                reaction_type = 'wow'\n",
    "        elif reaction_type == '7':\n",
    "                reaction_type = 'sad'\n",
    "        else:\n",
    "                reaction_type = 'angry'\n",
    "        return reaction_type, int(total_count)"
   ]
  },
  {
   "cell_type": "code",
   "execution_count": 34,
   "metadata": {},
   "outputs": [],
   "source": [
    "def get_reactions(driver, post_id):\n",
    "    '''\n",
    "    Get all reactions of a post\n",
    "    '''\n",
    "    driver.get(f\"https://mbasic.facebook.com/ufi/reaction/profile/browser/?ft_ent_identifier={post_id}\")\n",
    "    sleep(10)\n",
    "    links = driver.find_elements(By.XPATH, value=\"//a[@role='button' and @aria-pressed='false']\")\n",
    "    \n",
    "    hrefs = [link.get_attribute('href') for link in links]\n",
    "    reactions = {}\n",
    "    for href in hrefs:\n",
    "        reaction_type, count = get_count_react(href)\n",
    "        reactions[reaction_type] = count\n",
    "    return reactions"
   ]
  },
  {
   "cell_type": "markdown",
   "metadata": {},
   "source": [
    "## Funtion Crawls comment_full"
   ]
  },
  {
   "cell_type": "code",
   "execution_count": 35,
   "metadata": {},
   "outputs": [],
   "source": [
    "def get_comments_per_site(driver):\n",
    "    '''\n",
    "    Get all comments appearing on site max 10\n",
    "    {\n",
    "        'commenter_name': name,\n",
    "        'commenter_id': commenter_id,\n",
    "        'text': text,\n",
    "        'comment_id': comment_id,\n",
    "    }\n",
    "    '''\n",
    "    comments = []\n",
    "    \n",
    "    boxes = driver.find_elements(By.XPATH, value=\"//html/body/div/div/div[2]/div/div/div[2]/div/div[5]/*\")\n",
    "    \n",
    "    for box in boxes:\n",
    "        try:\n",
    "            commenter_name = box.find_element(By.XPATH, value=\".//h3/a\").text\n",
    "            def get_id_from_href(href):\n",
    "                id_match = re.search(r'\\?id=(\\d+)', href)\n",
    "                if id_match:\n",
    "                    return id_match.group(1)\n",
    "                else:\n",
    "                    return re.search(r'/([^?]+)', href).group(1)\n",
    "            commenter_id =  get_id_from_href(box.find_element(By.XPATH, value=\".//h3/a\").get_attribute('href'))\n",
    "            comment_text = box.find_element(By.XPATH, value=\".//div/div\").text\n",
    "            comment_id = box.get_attribute('id')\n",
    "            comments.append({\n",
    "                'commenter_name': commenter_name,\n",
    "                'commenter_id': commenter_id,\n",
    "                'text': comment_text,\n",
    "                'comment_id': comment_id,\n",
    "            })\n",
    "        except: # Have see previous\n",
    "            continue\n",
    "\n",
    "    return comments"
   ]
  },
  {
   "cell_type": "code",
   "execution_count": 36,
   "metadata": {},
   "outputs": [],
   "source": [
    "def get_comment_full(driver, amount, post_id):\n",
    "    ''' \n",
    "    Get <amount> comments of a post\n",
    "    '''\n",
    "    driver.get(f\"https://mbasic.facebook.com/{post_id}\")\n",
    "    sleep(10)\n",
    "\n",
    "    comments = []\n",
    "    while True:\n",
    "        comments += get_comments_per_site(driver)\n",
    "        if len(comments) >= amount:\n",
    "            break\n",
    "        sleep(20)\n",
    "    \n",
    "        # Find see_next else break\n",
    "        try:\n",
    "            button = driver.find_element(By.XPATH, value=\"//div[contains(@id, 'see_next')]\")\n",
    "            button.find_element(By.XPATH, value=\".//a\").click()\n",
    "            sleep(10)\n",
    "        except:\n",
    "            break\n",
    "    return comments[:amount]"
   ]
  },
  {
   "cell_type": "code",
   "execution_count": 37,
   "metadata": {},
   "outputs": [],
   "source": [
    "driver = initDriver()\n",
    "fbLogin(driver, EMAIL, PASSWORD)\n",
    "sleep(5)"
   ]
  },
  {
   "cell_type": "code",
   "execution_count": 38,
   "metadata": {},
   "outputs": [
    {
     "ename": "KeyboardInterrupt",
     "evalue": "",
     "output_type": "error",
     "traceback": [
      "\u001b[1;31m---------------------------------------------------------------------------\u001b[0m",
      "\u001b[1;31mKeyboardInterrupt\u001b[0m                         Traceback (most recent call last)",
      "\u001b[1;32mc:\\Users\\ADMIN\\Downloads\\final-project\\final-project-thanhdat-3108-main\\Clean_Data.ipynb Cell 16\u001b[0m line \u001b[0;36m3\n\u001b[0;32m      <a href='vscode-notebook-cell:/c%3A/Users/ADMIN/Downloads/final-project/final-project-thanhdat-3108-main/Clean_Data.ipynb#X21sZmlsZQ%3D%3D?line=0'>1</a>\u001b[0m df[\u001b[39m'\u001b[39m\u001b[39mreactions\u001b[39m\u001b[39m'\u001b[39m] \u001b[39m=\u001b[39m df[\u001b[39m'\u001b[39m\u001b[39mpost_id\u001b[39m\u001b[39m'\u001b[39m]\u001b[39m.\u001b[39mapply(\u001b[39mlambda\u001b[39;00m x: get_reactions(driver, x))\n\u001b[0;32m      <a href='vscode-notebook-cell:/c%3A/Users/ADMIN/Downloads/final-project/final-project-thanhdat-3108-main/Clean_Data.ipynb#X21sZmlsZQ%3D%3D?line=1'>2</a>\u001b[0m df[\u001b[39m'\u001b[39m\u001b[39mreaction_count\u001b[39m\u001b[39m'\u001b[39m] \u001b[39m=\u001b[39m df[\u001b[39m'\u001b[39m\u001b[39mreactions\u001b[39m\u001b[39m'\u001b[39m]\u001b[39m.\u001b[39mapply(\u001b[39mlambda\u001b[39;00m x: \u001b[39msum\u001b[39m(x\u001b[39m.\u001b[39mvalues()))\n\u001b[1;32m----> <a href='vscode-notebook-cell:/c%3A/Users/ADMIN/Downloads/final-project/final-project-thanhdat-3108-main/Clean_Data.ipynb#X21sZmlsZQ%3D%3D?line=2'>3</a>\u001b[0m df[\u001b[39m'\u001b[39m\u001b[39mcomments_full\u001b[39m\u001b[39m'\u001b[39m] \u001b[39m=\u001b[39m df[\u001b[39m'\u001b[39m\u001b[39mpost_id\u001b[39m\u001b[39m'\u001b[39m]\u001b[39m.\u001b[39mapply(\u001b[39mlambda\u001b[39;00m x: get_comment_full(driver, \u001b[39m20\u001b[39m, x))\n",
      "File \u001b[1;32mc:\\Users\\ADMIN\\anaconda3\\Lib\\site-packages\\pandas\\core\\series.py:4771\u001b[0m, in \u001b[0;36mSeries.apply\u001b[1;34m(self, func, convert_dtype, args, **kwargs)\u001b[0m\n\u001b[0;32m   4661\u001b[0m \u001b[39mdef\u001b[39;00m \u001b[39mapply\u001b[39m(\n\u001b[0;32m   4662\u001b[0m     \u001b[39mself\u001b[39m,\n\u001b[0;32m   4663\u001b[0m     func: AggFuncType,\n\u001b[1;32m   (...)\u001b[0m\n\u001b[0;32m   4666\u001b[0m     \u001b[39m*\u001b[39m\u001b[39m*\u001b[39mkwargs,\n\u001b[0;32m   4667\u001b[0m ) \u001b[39m-\u001b[39m\u001b[39m>\u001b[39m DataFrame \u001b[39m|\u001b[39m Series:\n\u001b[0;32m   4668\u001b[0m \u001b[39m    \u001b[39m\u001b[39m\"\"\"\u001b[39;00m\n\u001b[0;32m   4669\u001b[0m \u001b[39m    Invoke function on values of Series.\u001b[39;00m\n\u001b[0;32m   4670\u001b[0m \n\u001b[1;32m   (...)\u001b[0m\n\u001b[0;32m   4769\u001b[0m \u001b[39m    dtype: float64\u001b[39;00m\n\u001b[0;32m   4770\u001b[0m \u001b[39m    \"\"\"\u001b[39;00m\n\u001b[1;32m-> 4771\u001b[0m     \u001b[39mreturn\u001b[39;00m SeriesApply(\u001b[39mself\u001b[39m, func, convert_dtype, args, kwargs)\u001b[39m.\u001b[39mapply()\n",
      "File \u001b[1;32mc:\\Users\\ADMIN\\anaconda3\\Lib\\site-packages\\pandas\\core\\apply.py:1123\u001b[0m, in \u001b[0;36mSeriesApply.apply\u001b[1;34m(self)\u001b[0m\n\u001b[0;32m   1120\u001b[0m     \u001b[39mreturn\u001b[39;00m \u001b[39mself\u001b[39m\u001b[39m.\u001b[39mapply_str()\n\u001b[0;32m   1122\u001b[0m \u001b[39m# self.f is Callable\u001b[39;00m\n\u001b[1;32m-> 1123\u001b[0m \u001b[39mreturn\u001b[39;00m \u001b[39mself\u001b[39m\u001b[39m.\u001b[39mapply_standard()\n",
      "File \u001b[1;32mc:\\Users\\ADMIN\\anaconda3\\Lib\\site-packages\\pandas\\core\\apply.py:1174\u001b[0m, in \u001b[0;36mSeriesApply.apply_standard\u001b[1;34m(self)\u001b[0m\n\u001b[0;32m   1172\u001b[0m     \u001b[39melse\u001b[39;00m:\n\u001b[0;32m   1173\u001b[0m         values \u001b[39m=\u001b[39m obj\u001b[39m.\u001b[39mastype(\u001b[39mobject\u001b[39m)\u001b[39m.\u001b[39m_values\n\u001b[1;32m-> 1174\u001b[0m         mapped \u001b[39m=\u001b[39m lib\u001b[39m.\u001b[39mmap_infer(\n\u001b[0;32m   1175\u001b[0m             values,\n\u001b[0;32m   1176\u001b[0m             f,\n\u001b[0;32m   1177\u001b[0m             convert\u001b[39m=\u001b[39m\u001b[39mself\u001b[39m\u001b[39m.\u001b[39mconvert_dtype,\n\u001b[0;32m   1178\u001b[0m         )\n\u001b[0;32m   1180\u001b[0m \u001b[39mif\u001b[39;00m \u001b[39mlen\u001b[39m(mapped) \u001b[39mand\u001b[39;00m \u001b[39misinstance\u001b[39m(mapped[\u001b[39m0\u001b[39m], ABCSeries):\n\u001b[0;32m   1181\u001b[0m     \u001b[39m# GH#43986 Need to do list(mapped) in order to get treated as nested\u001b[39;00m\n\u001b[0;32m   1182\u001b[0m     \u001b[39m#  See also GH#25959 regarding EA support\u001b[39;00m\n\u001b[0;32m   1183\u001b[0m     \u001b[39mreturn\u001b[39;00m obj\u001b[39m.\u001b[39m_constructor_expanddim(\u001b[39mlist\u001b[39m(mapped), index\u001b[39m=\u001b[39mobj\u001b[39m.\u001b[39mindex)\n",
      "File \u001b[1;32mc:\\Users\\ADMIN\\anaconda3\\Lib\\site-packages\\pandas\\_libs\\lib.pyx:2924\u001b[0m, in \u001b[0;36mpandas._libs.lib.map_infer\u001b[1;34m()\u001b[0m\n",
      "\u001b[1;32mc:\\Users\\ADMIN\\Downloads\\final-project\\final-project-thanhdat-3108-main\\Clean_Data.ipynb Cell 16\u001b[0m line \u001b[0;36m3\n\u001b[0;32m      <a href='vscode-notebook-cell:/c%3A/Users/ADMIN/Downloads/final-project/final-project-thanhdat-3108-main/Clean_Data.ipynb#X21sZmlsZQ%3D%3D?line=0'>1</a>\u001b[0m df[\u001b[39m'\u001b[39m\u001b[39mreactions\u001b[39m\u001b[39m'\u001b[39m] \u001b[39m=\u001b[39m df[\u001b[39m'\u001b[39m\u001b[39mpost_id\u001b[39m\u001b[39m'\u001b[39m]\u001b[39m.\u001b[39mapply(\u001b[39mlambda\u001b[39;00m x: get_reactions(driver, x))\n\u001b[0;32m      <a href='vscode-notebook-cell:/c%3A/Users/ADMIN/Downloads/final-project/final-project-thanhdat-3108-main/Clean_Data.ipynb#X21sZmlsZQ%3D%3D?line=1'>2</a>\u001b[0m df[\u001b[39m'\u001b[39m\u001b[39mreaction_count\u001b[39m\u001b[39m'\u001b[39m] \u001b[39m=\u001b[39m df[\u001b[39m'\u001b[39m\u001b[39mreactions\u001b[39m\u001b[39m'\u001b[39m]\u001b[39m.\u001b[39mapply(\u001b[39mlambda\u001b[39;00m x: \u001b[39msum\u001b[39m(x\u001b[39m.\u001b[39mvalues()))\n\u001b[1;32m----> <a href='vscode-notebook-cell:/c%3A/Users/ADMIN/Downloads/final-project/final-project-thanhdat-3108-main/Clean_Data.ipynb#X21sZmlsZQ%3D%3D?line=2'>3</a>\u001b[0m df[\u001b[39m'\u001b[39m\u001b[39mcomments_full\u001b[39m\u001b[39m'\u001b[39m] \u001b[39m=\u001b[39m df[\u001b[39m'\u001b[39m\u001b[39mpost_id\u001b[39m\u001b[39m'\u001b[39m]\u001b[39m.\u001b[39mapply(\u001b[39mlambda\u001b[39;00m x: get_comment_full(driver, \u001b[39m20\u001b[39m, x))\n",
      "\u001b[1;32mc:\\Users\\ADMIN\\Downloads\\final-project\\final-project-thanhdat-3108-main\\Clean_Data.ipynb Cell 16\u001b[0m line \u001b[0;36m1\n\u001b[0;32m     <a href='vscode-notebook-cell:/c%3A/Users/ADMIN/Downloads/final-project/final-project-thanhdat-3108-main/Clean_Data.ipynb#X21sZmlsZQ%3D%3D?line=10'>11</a>\u001b[0m \u001b[39mif\u001b[39;00m \u001b[39mlen\u001b[39m(comments) \u001b[39m>\u001b[39m\u001b[39m=\u001b[39m amount:\n\u001b[0;32m     <a href='vscode-notebook-cell:/c%3A/Users/ADMIN/Downloads/final-project/final-project-thanhdat-3108-main/Clean_Data.ipynb#X21sZmlsZQ%3D%3D?line=11'>12</a>\u001b[0m     \u001b[39mbreak\u001b[39;00m\n\u001b[1;32m---> <a href='vscode-notebook-cell:/c%3A/Users/ADMIN/Downloads/final-project/final-project-thanhdat-3108-main/Clean_Data.ipynb#X21sZmlsZQ%3D%3D?line=12'>13</a>\u001b[0m sleep(\u001b[39m20\u001b[39m)\n\u001b[0;32m     <a href='vscode-notebook-cell:/c%3A/Users/ADMIN/Downloads/final-project/final-project-thanhdat-3108-main/Clean_Data.ipynb#X21sZmlsZQ%3D%3D?line=14'>15</a>\u001b[0m \u001b[39m# Find see_next else break\u001b[39;00m\n\u001b[0;32m     <a href='vscode-notebook-cell:/c%3A/Users/ADMIN/Downloads/final-project/final-project-thanhdat-3108-main/Clean_Data.ipynb#X21sZmlsZQ%3D%3D?line=15'>16</a>\u001b[0m \u001b[39mtry\u001b[39;00m:\n",
      "\u001b[1;31mKeyboardInterrupt\u001b[0m: "
     ]
    }
   ],
   "source": [
    "df['reactions'] = df['post_id'].apply(lambda x: get_reactions(driver, x))\n",
    "df['reaction_count'] = df['reactions'].apply(lambda x: sum(x.values()))\n",
    "df['comments_full'] = df['post_id'].apply(lambda x: get_comment_full(driver, 20, x)) # Get 20 comments for each post"
   ]
  },
  {
   "cell_type": "markdown",
   "metadata": {},
   "source": [
    "## Export file \n",
    "\n"
   ]
  },
  {
   "cell_type": "code",
   "execution_count": 40,
   "metadata": {},
   "outputs": [],
   "source": [
    "df.to_csv('Data/schannel.csv', index = False)\n",
    "df.to_excel('Data/schannel.xlsx', index = False)"
   ]
  }
 ],
 "metadata": {
  "kernelspec": {
   "display_name": "base",
   "language": "python",
   "name": "python3"
  },
  "language_info": {
   "codemirror_mode": {
    "name": "ipython",
    "version": 3
   },
   "file_extension": ".py",
   "mimetype": "text/x-python",
   "name": "python",
   "nbconvert_exporter": "python",
   "pygments_lexer": "ipython3",
   "version": "3.11.4"
  }
 },
 "nbformat": 4,
 "nbformat_minor": 2
}
